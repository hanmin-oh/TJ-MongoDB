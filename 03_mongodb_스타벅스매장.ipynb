{
 "cells": [
  {
   "cell_type": "code",
   "execution_count": 2,
   "id": "58c82a21",
   "metadata": {},
   "outputs": [],
   "source": [
    "import warnings\n",
    "warnings.filterwarnings(action='ignore')\n",
    "import requests\n",
    "import pymongo"
   ]
  },
  {
   "cell_type": "code",
   "execution_count": 3,
   "id": "c1dc4580",
   "metadata": {},
   "outputs": [],
   "source": [
    "mongoConnection = pymongo.MongoClient('mongodb://localhost:27017')\n",
    "starbucks = mongoConnection['starbucks'] \n",
    "sido = starbucks['sido']  \n",
    "sido.delete_many({})\n",
    "\n",
    "request = requests.post('https://www.starbucks.co.kr/store/getSidoList.do').json()\n",
    "sidoList = []\n",
    "\n",
    "for r in request['list']:\n",
    "    d = {'sido_cd': r['sido_cd'].strip(), 'sido_nm' : r.get('sido_nm').strip()}\n",
    "    sidoList.append(d)\n",
    "    \n",
    "for s in sidoList :\n",
    "    sido.insert_one(s)\n"
   ]
  },
  {
   "cell_type": "markdown",
   "id": "9b74a4a6",
   "metadata": {},
   "source": [
    "시도 이름을 입력받아 시도의 구군 코드 정보를 얻어와서 starbucks 데이터베이스의 gugun 컬렉션에 저장한다. "
   ]
  },
  {
   "cell_type": "code",
   "execution_count": 4,
   "id": "ebf90d23",
   "metadata": {},
   "outputs": [
    {
     "name": "stdout",
     "output_type": "stream",
     "text": [
      "[서울] [경기] [광주] [대구] [대전] [부산] [울산] [인천] [강원] [경남] [경북] [전남] [전북] [충남] [충북] [제주] [세종] 구군코드를 검색하려는 시도 이름을 입력하세요(예 : 서울) : 서울\n"
     ]
    }
   ],
   "source": [
    "sidoList = sido.find({}, {'_id' : 0})\n",
    "for s in sidoList:\n",
    "    print('[{}]'.format(s['sido_nm']), end=' ')\n",
    "\n",
    "sidoName = input('\\n구군코드를 검색하려는 시도 이름을 입력하세요(예 : 서울) : ')\n",
    "sido_cd = sido.find({'sido_nm' : sidoName}, {'_id' : 0}).next()\n",
    "request = requests.post('https://www.starbucks.co.kr/store/getGugunList.do', \n",
    "           data={\n",
    "               'sido_cd' : sido_cd['sido_cd']\n",
    "           }).json()\n",
    "gugunList = []\n",
    "for r in request['list']:\n",
    "    if r.get('gugun_nm') is None:\n",
    "        r['gugun_nm'] = '세부지역없음'\n",
    "    d = {'gugun_cd' : r['gugun_cd'].strip(), 'gugun_nm' : r.get('gugun_nm').strip()}\n",
    "    gugunList.append(d)\n",
    "\n",
    "for s in gugunList:\n",
    "    gugun.insert_one(s)\n",
    "    \n",
    "gugun = starbucks['gugun']\n",
    "gugun.delete_many({})\n",
    "for s in gugunList:\n",
    "    gugun.insert_one(s)\n",
    "    \n",
    "gugunList = gugu.find({}, {'_id' : 0})\n",
    "for s in gugunList\n"
   ]
  },
  {
   "cell_type": "markdown",
   "id": "0359d65a",
   "metadata": {},
   "source": [
    "시도 이름과 구군 이름을 입력받아 매장 정보를 얻어와서 starbucks 데이터베이스 store 컬렉션에 저장한다. "
   ]
  },
  {
   "cell_type": "code",
   "execution_count": null,
   "id": "b8241254",
   "metadata": {},
   "outputs": [],
   "source": [
    "sidoList = sido.find({}, {'_id' : 0})\n",
    "for s in sidoList:\n",
    "    print('[{}]'.format(s['sido_nm']), end=' ')\n",
    "    \n",
    "sidoName = input('\\n구군코드를 검색하려는 시도 이름을 입력하세요(예 : 서울) : ')\n",
    "sido_cd = sido.find({'sido_nm' : sidoName}, {'_id' : 0}).next()\n"
   ]
  },
  {
   "cell_type": "code",
   "execution_count": null,
   "id": "8582f5a7",
   "metadata": {},
   "outputs": [],
   "source": []
  },
  {
   "cell_type": "code",
   "execution_count": null,
   "id": "80fd9b9d",
   "metadata": {},
   "outputs": [],
   "source": []
  },
  {
   "cell_type": "code",
   "execution_count": null,
   "id": "2afbfca9",
   "metadata": {},
   "outputs": [],
   "source": []
  },
  {
   "cell_type": "code",
   "execution_count": null,
   "id": "99b8931a",
   "metadata": {},
   "outputs": [],
   "source": []
  },
  {
   "cell_type": "code",
   "execution_count": null,
   "id": "1ca33647",
   "metadata": {},
   "outputs": [],
   "source": []
  }
 ],
 "metadata": {
  "kernelspec": {
   "display_name": "py37",
   "language": "python",
   "name": "py37"
  },
  "language_info": {
   "codemirror_mode": {
    "name": "ipython",
    "version": 3
   },
   "file_extension": ".py",
   "mimetype": "text/x-python",
   "name": "python",
   "nbconvert_exporter": "python",
   "pygments_lexer": "ipython3",
   "version": "3.7.16"
  }
 },
 "nbformat": 4,
 "nbformat_minor": 5
}
